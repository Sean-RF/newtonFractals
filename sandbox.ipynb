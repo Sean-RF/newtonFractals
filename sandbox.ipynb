{
 "cells": [
  {
   "cell_type": "code",
   "execution_count": 1,
   "metadata": {},
   "outputs": [],
   "source": [
    "import numpy as np\n",
    "from matplotlib import pyplot as plt\n",
    "from importlib import reload as re\n",
    "import sympy\n",
    "\n",
    "\n",
    "z = sympy.symbols('z',complex = True)\n",
    "\n",
    "import numba\n",
    "from numba import vectorize"
   ]
  },
  {
   "cell_type": "code",
   "execution_count": 2,
   "metadata": {},
   "outputs": [
    {
     "data": {
      "text/plain": [
       "<module 'funcLib' from '/home/smckee/sandbox/newtonFractals/funcLib.py'>"
      ]
     },
     "execution_count": 2,
     "metadata": {},
     "output_type": "execute_result"
    }
   ],
   "source": [
    "import funcLib\n",
    "re(funcLib)\n"
   ]
  },
  {
   "cell_type": "code",
   "execution_count": 3,
   "metadata": {},
   "outputs": [],
   "source": [
    "expr = z**3 - 1\n",
    "compExpr = funcLib.rootFinderCompiler(expr)\n"
   ]
  },
  {
   "cell_type": "code",
   "execution_count": 7,
   "metadata": {},
   "outputs": [
    {
     "data": {
      "text/plain": [
       "<module 'numba' from '/home/smckee/anaconda3/lib/python3.8/site-packages/numba/__init__.py'>"
      ]
     },
     "execution_count": 7,
     "metadata": {},
     "output_type": "execute_result"
    }
   ],
   "source": [
    "numba"
   ]
  },
  {
   "cell_type": "code",
   "execution_count": 4,
   "metadata": {},
   "outputs": [
    {
     "ename": "NameError",
     "evalue": "name 'numba' is not defined",
     "output_type": "error",
     "traceback": [
      "\u001b[0;31m---------------------------------------------------------------------------\u001b[0m",
      "\u001b[0;31mNameError\u001b[0m                                 Traceback (most recent call last)",
      "Cell \u001b[0;32mIn [4], line 2\u001b[0m\n\u001b[1;32m      1\u001b[0m \u001b[39m@vectorize\u001b[39;49m([\u001b[39m'\u001b[39;49m\u001b[39mnumba.types.c8[:,::1](numba.types.c8[:,::1])\u001b[39;49m\u001b[39m'\u001b[39;49m])\n\u001b[0;32m----> 2\u001b[0m \u001b[39mdef\u001b[39;49;00m \u001b[39mtemp\u001b[39;49m(z):\n\u001b[1;32m      3\u001b[0m     \u001b[39mreturn\u001b[39;49;00m compExpr(z)\n",
      "File \u001b[0;32m~/anaconda3/lib/python3.8/site-packages/numba/np/ufunc/decorators.py:125\u001b[0m, in \u001b[0;36mvectorize.<locals>.wrap\u001b[0;34m(func)\u001b[0m\n\u001b[1;32m    123\u001b[0m vec \u001b[39m=\u001b[39m Vectorize(func, \u001b[39m*\u001b[39m\u001b[39m*\u001b[39mkws)\n\u001b[1;32m    124\u001b[0m \u001b[39mfor\u001b[39;00m sig \u001b[39min\u001b[39;00m ftylist:\n\u001b[0;32m--> 125\u001b[0m     vec\u001b[39m.\u001b[39;49madd(sig)\n\u001b[1;32m    126\u001b[0m \u001b[39mif\u001b[39;00m \u001b[39mlen\u001b[39m(ftylist) \u001b[39m>\u001b[39m \u001b[39m0\u001b[39m:\n\u001b[1;32m    127\u001b[0m     vec\u001b[39m.\u001b[39mdisable_compile()\n",
      "File \u001b[0;32m~/anaconda3/lib/python3.8/site-packages/numba/np/ufunc/dufunc.py:169\u001b[0m, in \u001b[0;36mDUFunc.add\u001b[0;34m(self, sig)\u001b[0m\n\u001b[1;32m    165\u001b[0m \u001b[39mdef\u001b[39;00m \u001b[39madd\u001b[39m(\u001b[39mself\u001b[39m, sig):\n\u001b[1;32m    166\u001b[0m     \u001b[39m\"\"\"\u001b[39;00m\n\u001b[1;32m    167\u001b[0m \u001b[39m    Compile the DUFunc for the given signature.\u001b[39;00m\n\u001b[1;32m    168\u001b[0m \u001b[39m    \"\"\"\u001b[39;00m\n\u001b[0;32m--> 169\u001b[0m     args, return_type \u001b[39m=\u001b[39m sigutils\u001b[39m.\u001b[39;49mnormalize_signature(sig)\n\u001b[1;32m    170\u001b[0m     \u001b[39mreturn\u001b[39;00m \u001b[39mself\u001b[39m\u001b[39m.\u001b[39m_compile_for_argtys(args, return_type)\n",
      "File \u001b[0;32m~/anaconda3/lib/python3.8/site-packages/numba/core/sigutils.py:29\u001b[0m, in \u001b[0;36mnormalize_signature\u001b[0;34m(sig)\u001b[0m\n\u001b[1;32m     23\u001b[0m \u001b[39m\"\"\"\u001b[39;00m\n\u001b[1;32m     24\u001b[0m \u001b[39mFrom *sig* (a signature specification), return a ``(args, return_type)``\u001b[39;00m\n\u001b[1;32m     25\u001b[0m \u001b[39mtuple, where ``args`` itself is a tuple of types, and ``return_type``\u001b[39;00m\n\u001b[1;32m     26\u001b[0m \u001b[39mcan be None if not specified.\u001b[39;00m\n\u001b[1;32m     27\u001b[0m \u001b[39m\"\"\"\u001b[39;00m\n\u001b[1;32m     28\u001b[0m \u001b[39mif\u001b[39;00m \u001b[39misinstance\u001b[39m(sig, \u001b[39mstr\u001b[39m):\n\u001b[0;32m---> 29\u001b[0m     parsed \u001b[39m=\u001b[39m _parse_signature_string(sig)\n\u001b[1;32m     30\u001b[0m \u001b[39melse\u001b[39;00m:\n\u001b[1;32m     31\u001b[0m     parsed \u001b[39m=\u001b[39m sig\n",
      "File \u001b[0;32m~/anaconda3/lib/python3.8/site-packages/numba/core/sigutils.py:19\u001b[0m, in \u001b[0;36m_parse_signature_string\u001b[0;34m(signature_str)\u001b[0m\n\u001b[1;32m     13\u001b[0m \u001b[39m\"\"\"\u001b[39;00m\n\u001b[1;32m     14\u001b[0m \u001b[39mParameters\u001b[39;00m\n\u001b[1;32m     15\u001b[0m \u001b[39m----------\u001b[39;00m\n\u001b[1;32m     16\u001b[0m \u001b[39msignature_str : str\u001b[39;00m\n\u001b[1;32m     17\u001b[0m \u001b[39m\"\"\"\u001b[39;00m\n\u001b[1;32m     18\u001b[0m \u001b[39m# Just eval signature_str using the types submodules as globals\u001b[39;00m\n\u001b[0;32m---> 19\u001b[0m \u001b[39mreturn\u001b[39;00m \u001b[39meval\u001b[39;49m(signature_str, {}, types\u001b[39m.\u001b[39;49m\u001b[39m__dict__\u001b[39;49m)\n",
      "File \u001b[0;32m<string>:1\u001b[0m\n",
      "\u001b[0;31mNameError\u001b[0m: name 'numba' is not defined"
     ]
    }
   ],
   "source": [
    "@vectorize(['numba.types.c8[:,::1](numba.types.c8[:,::1])'])\n",
    "def temp(z):\n",
    "    return compExpr(z)"
   ]
  },
  {
   "cell_type": "code",
   "execution_count": null,
   "metadata": {},
   "outputs": [],
   "source": []
  }
 ],
 "metadata": {
  "kernelspec": {
   "display_name": "base",
   "language": "python",
   "name": "python3"
  },
  "language_info": {
   "codemirror_mode": {
    "name": "ipython",
    "version": 3
   },
   "file_extension": ".py",
   "mimetype": "text/x-python",
   "name": "python",
   "nbconvert_exporter": "python",
   "pygments_lexer": "ipython3",
   "version": "3.8.8"
  },
  "orig_nbformat": 4,
  "vscode": {
   "interpreter": {
    "hash": "f0886533495a84239bd7c35ccaf15649e5a8d1e6d53e64289e5a53acd160ce68"
   }
  }
 },
 "nbformat": 4,
 "nbformat_minor": 2
}
