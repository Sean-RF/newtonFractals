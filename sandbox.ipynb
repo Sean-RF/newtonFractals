{
 "cells": [
  {
   "cell_type": "code",
   "execution_count": null,
   "metadata": {},
   "outputs": [],
   "source": [
    "import numpy as np\n",
    "from matplotlib import pyplot as plt\n",
    "from importlib import reload as re\n",
    "import sympy\n",
    "\n",
    "\n",
    "z = sympy.symbols('z',complex = True)\n",
    "\n",
    "import numba\n",
    "from numba import vectorize"
   ]
  },
  {
   "cell_type": "code",
   "execution_count": null,
   "metadata": {},
   "outputs": [],
   "source": [
    "import funcLib\n",
    "re(funcLib)\n"
   ]
  },
  {
   "cell_type": "code",
   "execution_count": null,
   "metadata": {},
   "outputs": [],
   "source": [
    "expr = z**3 - 1\n",
    "funcLib.displayConvergence(expr,[-1,1],[-1,1],1000,1000,3,_cmap='prism')\n"
   ]
  },
  {
   "cell_type": "code",
   "execution_count": null,
   "metadata": {},
   "outputs": [],
   "source": [
    "def displayConvergence(expr, xlim, ylim, xres, yres, iterations, savenum=0, _cmap='inferno'):\n",
    "    x = np.linspace(xlim[0],xlim[1],xres)\n",
    "    y = np.linspace(ylim[0],ylim[1],yres)\n",
    "\n",
    "    xx,yy = np.meshgrid(x,y,indexing = 'xy')\n",
    "\n",
    "    z = xx + yy*1j\n",
    "\n",
    "    compExpr = funcLib.rootFinderCompiler(expr)\n",
    "\n",
    "    for i in range(iterations):\n",
    "        z = compExpr(z)\n",
    "\n",
    "    z = np.angle(z).reshape(xres,yres).T\n",
    "    plt.imshow(z,cmap=_cmap)\n",
    "    # plt.xticks(np.linspace(0,xres,5),np.linspace(xlim[0],xlim[1],5))\n",
    "    # plt.yticks(np.linspace(0,yres,5),-np.linspace(ylim[0],ylim[1],5))\n",
    "    plt.xticks([])\n",
    "    plt.yticks([])\n",
    "\n",
    "    plt.savefig(f'zoom_{savenum:04d}.png')\n",
    "    plt.close()\n",
    "\n",
    "for shmeh,i in enumerate(np.logspace(-1,5,100)):\n",
    "    displayConvergence(expr,[-1*i,1*i],[-1*i,1*i],1000,1000,3,savenum=shmeh, _cmap='prism')\n"
   ]
  }
 ],
 "metadata": {
  "kernelspec": {
   "display_name": "base",
   "language": "python",
   "name": "python3"
  },
  "language_info": {
   "codemirror_mode": {
    "name": "ipython",
    "version": 3
   },
   "file_extension": ".py",
   "mimetype": "text/x-python",
   "name": "python",
   "nbconvert_exporter": "python",
   "pygments_lexer": "ipython3",
   "version": "3.8.8"
  },
  "orig_nbformat": 4,
  "vscode": {
   "interpreter": {
    "hash": "f0886533495a84239bd7c35ccaf15649e5a8d1e6d53e64289e5a53acd160ce68"
   }
  }
 },
 "nbformat": 4,
 "nbformat_minor": 2
}
